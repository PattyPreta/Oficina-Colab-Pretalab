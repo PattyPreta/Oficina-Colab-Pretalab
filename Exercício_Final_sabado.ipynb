{
  "nbformat": 4,
  "nbformat_minor": 0,
  "metadata": {
    "colab": {
      "provenance": [],
      "include_colab_link": true
    },
    "kernelspec": {
      "name": "python3",
      "display_name": "Python 3"
    },
    "language_info": {
      "name": "python"
    }
  },
  "cells": [
    {
      "cell_type": "markdown",
      "metadata": {
        "id": "view-in-github",
        "colab_type": "text"
      },
      "source": [
        "<a href=\"https://colab.research.google.com/github/PattyPreta/Oficina-Colab-Pretalab/blob/main/Exerc%C3%ADcio_Final_sabado.ipynb\" target=\"_parent\"><img src=\"https://colab.research.google.com/assets/colab-badge.svg\" alt=\"Open In Colab\"/></a>"
      ]
    },
    {
      "cell_type": "markdown",
      "source": [
        "# Contagem de Medalhas\n",
        "\n",
        "Crie um programa que receba o número de medalhas de ouro, prata e bronze de um país nas Olimpíadas e calcule o total de medalhas.\n",
        "Quando escrever 'sair', o programa deverá encerrar e mostrar na tela o ranking de medalhas no formato:"
      ],
      "metadata": {
        "id": "RQN1e5FZY6SZ"
      }
    },
    {
      "cell_type": "code",
      "source": [
        "#Ranking de medalhas:\n",
        "#Brasil: 7 medalhas\n",
        "#França: 6 medalhas\n",
        "#Argentina: 3 medalhas\n",
        "\n",
        "ranking = sorted('Ranking de Medalhas: Brasil: 7 medalhas, França: 6 medalhas, Argentina: 3 medalhas')"
      ],
      "metadata": {
        "id": "gCq_KLHzZSzb"
      },
      "execution_count": 10,
      "outputs": []
    },
    {
      "cell_type": "code",
      "execution_count": 16,
      "metadata": {
        "id": "AJJhjxiPTd5s",
        "colab": {
          "base_uri": "https://localhost:8080/"
        },
        "outputId": "8eb38c88-9443-4bb7-c240-65e02397506e"
      },
      "outputs": [
        {
          "output_type": "stream",
          "name": "stdout",
          "text": [
            "Ranking de Medalhas\n",
            "Brasil: 7 medalhas\n",
            "França: 6 medalhas\n",
            "Argentina: 3 medalhas\n",
            "pais, medalhas in ranking\n"
          ]
        }
      ],
      "source": [
        "# Resposta aqui\n",
        "\n",
        "print('Ranking de Medalhas')\n",
        "print('Brasil: 7 medalhas')\n",
        "print('França: 6 medalhas')\n",
        "print('Argentina: 3 medalhas')\n",
        "\n",
        "print(f'pais, medalhas in ranking')\n",
        "\n"
      ]
    }
  ]
}